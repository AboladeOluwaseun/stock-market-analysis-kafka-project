{
 "cells": [
  {
   "cell_type": "code",
   "execution_count": null,
   "id": "499e7a0b",
   "metadata": {},
   "outputs": [],
   "source": [
    "pip install pandas\n"
   ]
  },
  {
   "cell_type": "code",
   "execution_count": null,
   "id": "aff9e804",
   "metadata": {},
   "outputs": [],
   "source": [
    "pip install s3fs"
   ]
  },
  {
   "cell_type": "code",
   "execution_count": 2,
   "id": "69fadf84",
   "metadata": {},
   "outputs": [],
   "source": [
    "import pandas as pd\n",
    "from kafka import  KafkaConsumer\n",
    "from time import sleep\n",
    "from json import dumps, loads\n",
    "import json\n",
    "from s3fs import S3FileSystem"
   ]
  },
  {
   "cell_type": "code",
   "execution_count": 3,
   "id": "cd7d4b4f",
   "metadata": {},
   "outputs": [],
   "source": [
    "consumer = KafkaConsumer(\n",
    "    'demotest',\n",
    "    bootstrap_servers=['13.53.133.33:9092'],\n",
    "    value_deserializer=lambda x: loads(x.decode('utf-8'))\n",
    ")"
   ]
  },
  {
   "cell_type": "code",
   "execution_count": 4,
   "id": "96f98160",
   "metadata": {},
   "outputs": [],
   "source": [
    "s3 = S3FileSystem()"
   ]
  },
  {
   "cell_type": "code",
   "execution_count": null,
   "id": "5fc33c80",
   "metadata": {},
   "outputs": [],
   "source": [
    "for count, i in enumerate(consumer):\n",
    "    with s3.open(\n",
    "        f's3://kafka-stock-market-project-oluwaseun/stock_market_{count}.json', 'w'\n",
    "    ) as file:\n",
    "        json.dump(i.value, file)\n"
   ]
  },
  {
   "cell_type": "code",
   "execution_count": null,
   "id": "19f7442b",
   "metadata": {},
   "outputs": [],
   "source": [
    "for c in consumer:\n",
    "    print(c.value)"
   ]
  },
  {
   "cell_type": "code",
   "execution_count": 4,
   "id": "32254727",
   "metadata": {},
   "outputs": [],
   "source": [
    "consumer.subscribe(['demotest'])"
   ]
  },
  {
   "cell_type": "code",
   "execution_count": 5,
   "id": "76529b8d",
   "metadata": {},
   "outputs": [
    {
     "name": "stdout",
     "output_type": "stream",
     "text": [
      "None\n"
     ]
    }
   ],
   "source": [
    "print(consumer.subscribe(['demotest']))"
   ]
  },
  {
   "cell_type": "code",
   "execution_count": null,
   "id": "0f218a89",
   "metadata": {},
   "outputs": [],
   "source": []
  }
 ],
 "metadata": {
  "kernelspec": {
   "display_name": "Python 3",
   "language": "python",
   "name": "python3"
  },
  "language_info": {
   "codemirror_mode": {
    "name": "ipython",
    "version": 3
   },
   "file_extension": ".py",
   "mimetype": "text/x-python",
   "name": "python",
   "nbconvert_exporter": "python",
   "pygments_lexer": "ipython3",
   "version": "3.9.11"
  }
 },
 "nbformat": 4,
 "nbformat_minor": 5
}
